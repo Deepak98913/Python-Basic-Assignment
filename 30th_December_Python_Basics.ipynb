{
 "cells": [
  {
   "cell_type": "code",
   "execution_count": 11,
   "id": "f221a1bd-6c6e-4222-9aec-b7419d670970",
   "metadata": {},
   "outputs": [],
   "source": [
    "# Step 1 : Declare the initalize variable\n",
    "x = 20\n",
    "y = 10\n",
    "# Step 2 : Creating function to swap the variable\n",
    "def swap_variables (x,y):\n",
    "    print(f\"Before swap x: {x} and y: {y}\")\n",
    "    x,y = y,x\n",
    "    print(f\"After swap x: {x} and y: {y}\")"
   ]
  },
  {
   "cell_type": "code",
   "execution_count": 13,
   "id": "7611276f-f7ca-463a-bc61-0590afaa9675",
   "metadata": {},
   "outputs": [
    {
     "name": "stdout",
     "output_type": "stream",
     "text": [
      "Before swap x: 20 and y: 10\n",
      "After swap x: 10 and y: 20\n"
     ]
    }
   ],
   "source": [
    "swap_variables(x,y)"
   ]
  },
  {
   "cell_type": "code",
   "execution_count": 9,
   "id": "bd085d11-e0a2-4689-a3c1-f4a07a405654",
   "metadata": {},
   "outputs": [
    {
     "name": "stdin",
     "output_type": "stream",
     "text": [
      "Enter the length of the rectangle: 15\n",
      "Enter the width of the rectangle: 20\n"
     ]
    },
    {
     "name": "stdout",
     "output_type": "stream",
     "text": [
      "The area of the rectangle is: 300.0\n"
     ]
    }
   ],
   "source": [
    "# Step 1 : Get input the user for length and width\n",
    "length = float(input(\"Enter the length of the rectangle:\")) # Taking user input for length and converting it to a floating-point number.\n",
    "width = float(input(\"Enter the width of the rectangle:\")) # Taking user input for width and converting it to a floating-point number\n",
    "\n",
    "# Step 2 : Calculate the area of the rectangle using the formula area = length * width\n",
    "area = length * width # Calculating the area by multiplying lenght and width\n",
    "\n",
    "# Step 3 : Display the calculated area of the user\n",
    "print(\"The area of the rectangle is:\", area) #printing the calculated area\n"
   ]
  },
  {
   "cell_type": "code",
   "execution_count": 10,
   "id": "33c0efbd-98f6-4d1e-8a09-4f3c93b08da1",
   "metadata": {},
   "outputs": [
    {
     "name": "stdin",
     "output_type": "stream",
     "text": [
      "Enter temperature in celsius:  35\n"
     ]
    },
    {
     "name": "stdout",
     "output_type": "stream",
     "text": [
      "35.0 celsius is equal to 95.00 Fahrenheit\n"
     ]
    }
   ],
   "source": [
    "# Step 1 : Get the temprature in celsius from the user\n",
    "celsius_temperature = float(input(\"Enter temperature in celsius: \"))\n",
    "# Step 2 : Convert celsius to Fahrenheit using the formula: (C * 9/5) + 32\n",
    "fahrenheit_temperature = (celsius_temperature * 9/5) + 32\n",
    "# Step 3 : Display the converted temperature is fahrenheit\n",
    "print(f\"{celsius_temperature} celsius is equal to {fahrenheit_temperature :.2f} Fahrenheit\")"
   ]
  },
  {
   "cell_type": "code",
   "execution_count": 11,
   "id": "acf88a04-5c04-4f1f-9125-40232b38305e",
   "metadata": {},
   "outputs": [
    {
     "name": "stdin",
     "output_type": "stream",
     "text": [
      "Enter a string deepak\n"
     ]
    },
    {
     "name": "stdout",
     "output_type": "stream",
     "text": [
      "The lenght of the input string:  6\n"
     ]
    }
   ],
   "source": [
    "# Step 1 : Get input the user\n",
    "input_string = input(\"Enter a string\")\n",
    "# Step 2 : Calculate the lenght of the input string using the built-in len() function\n",
    "string_lenght = len(input_string)\n",
    "# Step 3 : Print the lenght of the string\n",
    "print(\"The lenght of the input string: \", string_lenght)"
   ]
  },
  {
   "cell_type": "code",
   "execution_count": 16,
   "id": "944058f2-e3d4-4928-82ba-7654cb746fcb",
   "metadata": {},
   "outputs": [
    {
     "name": "stdin",
     "output_type": "stream",
     "text": [
      "Enter a sentence: hi my name is deepak\n"
     ]
    },
    {
     "name": "stdout",
     "output_type": "stream",
     "text": [
      "Number of vowels: 0\n",
      "Number of vowels: 1\n",
      "Number of vowels: 1\n",
      "Number of vowels: 1\n",
      "Number of vowels: 1\n",
      "Number of vowels: 1\n",
      "Number of vowels: 1\n",
      "Number of vowels: 2\n",
      "Number of vowels: 2\n",
      "Number of vowels: 3\n",
      "Number of vowels: 3\n",
      "Number of vowels: 4\n",
      "Number of vowels: 4\n",
      "Number of vowels: 4\n",
      "Number of vowels: 4\n",
      "Number of vowels: 5\n",
      "Number of vowels: 6\n",
      "Number of vowels: 6\n",
      "Number of vowels: 7\n",
      "Number of vowels: 7\n"
     ]
    }
   ],
   "source": [
    "# Step 1 : Get input from the user \n",
    "sentence = input(\"Enter a sentence:\")\n",
    "# Step 2 : Inialize a variable to count the vowel\n",
    "vowel_count = 0\n",
    "# Step 3 : Iterate through each character in the sentence\n",
    "for char in sentence:\n",
    "    # Step 4 : Convert the character to lowecase to handle both uppercase and lowercase vowels\n",
    "    char_lower = char.lower()\n",
    "    \n",
    "    # Step 5 : Check if the character is a vowel (a,e,i,o,u)\n",
    "    if char_lower in \"aeiou\":\n",
    "       # Step 6 : If character is a vowel, increment the vowel_count variable\n",
    "       vowel_count += 1\n",
    "        \n",
    "    # Step 7 : Display the result \n",
    "    print(\"Number of vowels:\", vowel_count)\n"
   ]
  },
  {
   "cell_type": "code",
   "execution_count": 17,
   "id": "5b91601c-7cfe-4179-9257-2ede241af4ba",
   "metadata": {},
   "outputs": [
    {
     "name": "stdin",
     "output_type": "stream",
     "text": [
      "Enter a string: deepak\n"
     ]
    },
    {
     "name": "stdout",
     "output_type": "stream",
     "text": [
      "Reversed String: kapeed\n"
     ]
    }
   ],
   "source": [
    "# Step 1: Get the input string from the user\n",
    "input_string = input(\"Enter a string:\")\n",
    "# Step 2: Use string slicing to reverse the string \n",
    "# Syntax: [Start:end:step]\n",
    "# Here, we start from the end of the string, move backword with step -1, and step at the begining.\n",
    "reversed_string = input_string[::-1]\n",
    "# Step 3: Print the reversed string\n",
    "print(\"Reversed String:\", reversed_string)\n"
   ]
  },
  {
   "cell_type": "code",
   "execution_count": 22,
   "id": "a874d0c2-174d-41c5-9d80-5eea31b328c0",
   "metadata": {},
   "outputs": [
    {
     "name": "stdin",
     "output_type": "stream",
     "text": [
      "Enter a string:  deepak\n"
     ]
    },
    {
     "name": "stdout",
     "output_type": "stream",
     "text": [
      "The input string is not a palindrome\n"
     ]
    }
   ],
   "source": [
    "# Step 1 : Get input from the user \n",
    "input_string = input(\"Enter a string: \")\n",
    "# Step 2 : Remove spaces and convert the input string to lowercase \n",
    "cleaned_string = input_string.replace(\" \",\"\").lower()\n",
    "# Step 3 : Reverse the cleaned string using slicing\n",
    "reversed_string = cleaned_string[::-1]\n",
    "# Step 4 : Compare the cleaned string with its reversed to check for palindrome\n",
    "if cleaned_string == reversed_string:\n",
    "    print(\"The input string is a palindrome\")\n",
    "else:\n",
    "    print(\"The input string is not a palindrome\")    \n",
    "    "
   ]
  },
  {
   "cell_type": "code",
   "execution_count": 24,
   "id": "bf8d56a8-2b43-4096-8083-aaefaed6073c",
   "metadata": {},
   "outputs": [
    {
     "name": "stdin",
     "output_type": "stream",
     "text": [
      "Enter a string: Deepak\n"
     ]
    },
    {
     "name": "stdout",
     "output_type": "stream",
     "text": [
      "Modified string without spaces: D\n",
      "Modified string without spaces: De\n",
      "Modified string without spaces: Dee\n",
      "Modified string without spaces: Deep\n",
      "Modified string without spaces: Deepa\n",
      "Modified string without spaces: Deepak\n"
     ]
    }
   ],
   "source": [
    "# Step 1 : Teke input from the user \n",
    "input_string = input(\"Enter a string:\")\n",
    "# Step 2 : Inialize an empty string to store the modified string without spaces\n",
    "modified_string = \"\"\n",
    "# Step 3 : Iterate through each character in the input string \n",
    "for char in input_string:\n",
    "    # Step 4 : Check if the character is not a space \n",
    "    if char !=\" \":\n",
    "        # Step 5 : If not a space, append the character to the modified string\n",
    "        modified_string += char\n",
    "        # Step 6 : Print the modified string without spaces\n",
    "        print(\"Modified string without spaces:\", modified_string)"
   ]
  },
  {
   "cell_type": "code",
   "execution_count": null,
   "id": "e21dcab9-0f24-4fed-8606-287012b9a16d",
   "metadata": {},
   "outputs": [],
   "source": []
  }
 ],
 "metadata": {
  "kernelspec": {
   "display_name": "Python 3 (ipykernel)",
   "language": "python",
   "name": "python3"
  },
  "language_info": {
   "codemirror_mode": {
    "name": "ipython",
    "version": 3
   },
   "file_extension": ".py",
   "mimetype": "text/x-python",
   "name": "python",
   "nbconvert_exporter": "python",
   "pygments_lexer": "ipython3",
   "version": "3.10.8"
  }
 },
 "nbformat": 4,
 "nbformat_minor": 5
}
